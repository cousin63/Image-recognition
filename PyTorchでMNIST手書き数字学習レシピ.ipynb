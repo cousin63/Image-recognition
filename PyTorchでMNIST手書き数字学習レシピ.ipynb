{
 "cells": [
  {
   "cell_type": "code",
   "execution_count": 1,
   "metadata": {},
   "outputs": [],
   "source": [
    "import matplotlib.pyplot as plt\n",
    "import torchvision.transforms as transforms\n",
    "from torch.utils.data import DataLoader\n",
    "from torchvision.datasets import MNIST"
   ]
  },
  {
   "cell_type": "code",
   "execution_count": 2,
   "metadata": {},
   "outputs": [],
   "source": [
    "data_folder = '~/data'\n",
    "BATCH_SIZE = 8\n",
    "mnist_data = MNIST(data_folder, train=True, download=True, transform=transforms.ToTensor())\n",
    "\n",
    "data_loader = DataLoader(mnist_data, batch_size=8, shuffle=False)"
   ]
  },
  {
   "cell_type": "code",
   "execution_count": 3,
   "metadata": {},
   "outputs": [
    {
     "name": "stdout",
     "output_type": "stream",
     "text": [
      "8\n",
      "8\n"
     ]
    }
   ],
   "source": [
    "data_iterator = iter(data_loader)\n",
    "images, labels = data_iterator.next()\n",
    "print(len(images))\n",
    "print(len(labels))"
   ]
  },
  {
   "cell_type": "code",
   "execution_count": 4,
   "metadata": {},
   "outputs": [
    {
     "name": "stdout",
     "output_type": "stream",
     "text": [
      "(1, 28, 28)\n"
     ]
    },
    {
     "data": {
      "image/png": "[encoded data removed]",
      "text/plain": [
       "<Figure size 432x288 with 1 Axes>"
      ]
     },
     "metadata": {
      "needs_background": "light"
     },
     "output_type": "display_data"
    },
    {
     "name": "stdout",
     "output_type": "stream",
     "text": [
      "ラベル: tensor(9)\n"
     ]
    }
   ],
   "source": [
    "location = 4\n",
    "data = images[location].numpy()\n",
    "print(data.shape)\n",
    "#print(data)\n",
    "reshaped_data = data.reshape(28,28)\n",
    "plt.imshow(reshaped_data, cmap=\"inferno\", interpolation=\"bicubic\")\n",
    "plt.show()\n",
    "print(\"ラベル:\",labels[location])"
   ]
  },
  {
   "cell_type": "code",
   "execution_count": 9,
   "metadata": {},
   "outputs": [],
   "source": [
    "train_data_with_labels = MNIST(data_folder, train=True, download=True, transform=transforms.ToTensor())\n",
    "train_data_loader = DataLoader(train_data_with_labels, batch_size=BATCH_SIZE, shuffle=True)\n",
    "\n",
    "test_data_with_labels = MNIST(data_folder, train=False, download=True, transform=transforms.ToTensor())\n",
    "test_data_loader = DataLoader(test_data_with_labels, batch_size=BATCH_SIZE, shuffle=True)"
   ]
  },
  {
   "cell_type": "code",
   "execution_count": 10,
   "metadata": {},
   "outputs": [
    {
     "name": "stdout",
     "output_type": "stream",
     "text": [
      "Dataset MNIST\n",
      "    Number of datapoints: 60000\n",
      "    Root location: C:\\Users\\koshi/data\n",
      "    Split: Train\n",
      "    StandardTransform\n",
      "Transform: ToTensor()\n",
      "Dataset MNIST\n",
      "    Number of datapoints: 10000\n",
      "    Root location: C:\\Users\\koshi/data\n",
      "    Split: Test\n",
      "    StandardTransform\n",
      "Transform: ToTensor()\n"
     ]
    }
   ],
   "source": [
    "print(train_data_loader.dataset)\n",
    "print(test_data_loader.dataset)"
   ]
  },
  {
   "cell_type": "code",
   "execution_count": 12,
   "metadata": {},
   "outputs": [],
   "source": [
    "from torch.autograd import Variable\n",
    "import torch.nn as nn\n",
    "\n",
    "class MLP(nn.Module):\n",
    "    def __init__(self):\n",
    "        super().__init__()\n",
    "        #入力層\n",
    "        self.layer1 = nn.Linear(28*28, 100)\n",
    "        #中間層(隠れ層)\n",
    "        self.layer2 = nn.Linear(100,50)\n",
    "        #出力層\n",
    "        self.layer3 = nn.Linear(50,10)\n",
    "    \n",
    "    def forward(self, input_data):\n",
    "        input_data = input_data.view(-1,28*28)\n",
    "        input_data = self.layer1(input_data)\n",
    "        input_data = self.layer2(input_data)\n",
    "        input_data = self.layer3(input_data)\n",
    "        return input_data"
   ]
  },
  {
   "cell_type": "code",
   "execution_count": 15,
   "metadata": {},
   "outputs": [],
   "source": [
    "model = MLP()\n",
    "import torch.optim as optimizer\n",
    "#ソルトマックス：クロスエントロピー\n",
    "lossResult = nn.CrossEntropyLoss()\n",
    "#SSD\n",
    "optimizer = optimizer.SGD(model.parameters(),lr=0.01)"
   ]
  },
  {
   "cell_type": "code",
   "execution_count": 25,
   "metadata": {},
   "outputs": [
    {
     "name": "stdout",
     "output_type": "stream",
     "text": [
      "学習進捗:[1,2000] 学習誤差(loss):0.853\n",
      "学習進捗:[1,4000] 学習誤差(loss):0.380\n",
      "学習進捗:[1,6000] 学習誤差(loss):0.340\n",
      "学習進捗:[2,2000] 学習誤差(loss):0.310\n",
      "学習進捗:[2,4000] 学習誤差(loss):0.315\n",
      "学習進捗:[2,6000] 学習誤差(loss):0.310\n",
      "学習進捗:[3,2000] 学習誤差(loss):0.294\n",
      "学習進捗:[3,4000] 学習誤差(loss):0.287\n",
      "学習進捗:[3,6000] 学習誤差(loss):0.292\n",
      "学習進捗:[4,2000] 学習誤差(loss):0.299\n",
      "学習進捗:[4,4000] 学習誤差(loss):0.290\n",
      "学習進捗:[4,6000] 学習誤差(loss):0.283\n"
     ]
    }
   ],
   "source": [
    "max_epoch = 4\n",
    "for epoch in range(max_epoch):\n",
    "    total_loss = 0.0\n",
    "    for i,data in enumerate(train_data_loader):\n",
    "        train_data, teacher_labels = data\n",
    "        train_data, teacher_labels = Variable(train_data),Variable(teacher_labels)\n",
    "        optimizer.zero_grad()\n",
    "        outputs=model(train_data)\n",
    "        loss = lossResult(outputs,teacher_labels)\n",
    "        loss.backward()\n",
    "        \n",
    "        optimizer.step()\n",
    "        total_loss +=  loss.data\n",
    "        \n",
    "        if i % 2000 == 1999:\n",
    "            print(\"学習進捗:[%d,%d] 学習誤差(loss):%.3f\" % (epoch + 1, i+1, total_loss/2000))\n",
    "            total_loss = 0.0\n"
   ]
  },
  {
   "cell_type": "code",
   "execution_count": 31,
   "metadata": {},
   "outputs": [
    {
     "name": "stdout",
     "output_type": "stream",
     "text": [
      "count_when_correct:9173\n",
      "total:10000\n",
      "正解率:9173/10000 = 0.917300\n"
     ]
    }
   ],
   "source": [
    "import torch\n",
    "total = 0\n",
    "count_when_correct = 0\n",
    "for data in test_data_loader:\n",
    "    test_data, teacher_labels = data\n",
    "    results = model(Variable(test_data))\n",
    "    _,predicted = torch.max(results.data,1)\n",
    "    total += teacher_labels.size(0)\n",
    "    count_when_correct += (predicted == teacher_labels).sum()\n",
    "print(\"count_when_correct:%d\"%(count_when_correct))\n",
    "print(\"total:%d\"%(total))\n",
    "print(\"正解率:%d/%d = %f\"% (count_when_correct,total,int(count_when_correct)/int(total)))"
   ]
  },
  {
   "cell_type": "code",
   "execution_count": null,
   "metadata": {},
   "outputs": [],
   "source": []
  },
  {
   "cell_type": "code",
   "execution_count": null,
   "metadata": {},
   "outputs": [],
   "source": []
  },
  {
   "cell_type": "code",
   "execution_count": null,
   "metadata": {},
   "outputs": [],
   "source": []
  },
  {
   "cell_type": "code",
   "execution_count": null,
   "metadata": {},
   "outputs": [],
   "source": []
  },
  {
   "cell_type": "code",
   "execution_count": null,
   "metadata": {},
   "outputs": [],
   "source": []
  },
  {
   "cell_type": "code",
   "execution_count": null,
   "metadata": {},
   "outputs": [],
   "source": []
  },
  {
   "cell_type": "code",
   "execution_count": null,
   "metadata": {},
   "outputs": [],
   "source": []
  },
  {
   "cell_type": "code",
   "execution_count": null,
   "metadata": {},
   "outputs": [],
   "source": []
  },
  {
   "cell_type": "code",
   "execution_count": null,
   "metadata": {},
   "outputs": [],
   "source": []
  }
 ],
 "metadata": {
  "kernelspec": {
   "display_name": "Python 3",
   "language": "python",
   "name": "python3"
  },
  "language_info": {
   "codemirror_mode": {
    "name": "ipython",
    "version": 3
   },
   "file_extension": ".py",
   "mimetype": "text/x-python",
   "name": "python",
   "nbconvert_exporter": "python",
   "pygments_lexer": "ipython3",
   "version": "3.7.4"
  }
 },
 "nbformat": 4,
 "nbformat_minor": 2
}
